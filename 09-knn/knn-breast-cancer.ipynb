{
 "cells": [
  {
   "cell_type": "markdown",
   "metadata": {},
   "source": [
    "# K-Nearest Neighbors"
   ]
  },
  {
   "cell_type": "code",
   "execution_count": 19,
   "metadata": {},
   "outputs": [],
   "source": [
    "import numpy as np\n",
    "from sklearn import preprocessing, neighbors\n",
    "from sklearn.model_selection import train_test_split\n",
    "import pandas as pd\n",
    "import warnings\n",
    "warnings.filterwarnings(\"ignore\")"
   ]
  },
  {
   "cell_type": "markdown",
   "metadata": {},
   "source": [
    "## Importing dataset(Breast Cancer from UCI) and preprocessing "
   ]
  },
  {
   "cell_type": "code",
   "execution_count": 80,
   "metadata": {},
   "outputs": [],
   "source": [
    "# Importing dataset\n",
    "data = pd.read_csv('dataset/breast-cancer-wisconsin.data')\n",
    "\n",
    "# Replave NaN\n",
    "data.replace('?', -99999, inplace=True)\n",
    "# Drop id\n",
    "data.drop(['id'], axis=1, inplace=True)\n",
    "\n",
    "X = np.array(data.drop(['class'], axis=1))\n",
    "Y = np.array(data['class'])"
   ]
  },
  {
   "cell_type": "code",
   "execution_count": 52,
   "metadata": {},
   "outputs": [],
   "source": [
    "# Split Training and Testing set \n",
    "X_train, X_test, y_train, y_test = train_test_split(X, y, test_size=0.2)"
   ]
  },
  {
   "cell_type": "code",
   "execution_count": 56,
   "metadata": {},
   "outputs": [
    {
     "name": "stdout",
     "output_type": "stream",
     "text": [
      "Testing accuracy: 0.95\n"
     ]
    }
   ],
   "source": [
    "# Build model \n",
    "model = neighbors.KNeighborsClassifier()\n",
    "# Train model \n",
    "model.fit(X_train,y_train)\n",
    "# Test model \n",
    "accuracy = model.score(X_test, y_test)\n",
    "# Get accuracy \n",
    "print(\"Testing accuracy: {}\".format(accuracy))"
   ]
  },
  {
   "cell_type": "code",
   "execution_count": 82,
   "metadata": {},
   "outputs": [
    {
     "name": "stdout",
     "output_type": "stream",
     "text": [
      "[4 2 1 1 1 2 3 2 1] belongs to class 2\n",
      "[ 4 10  7  7  1  2  3  2  1] belongs to class 4\n"
     ]
    }
   ],
   "source": [
    "# Predict with the model \n",
    "X_predict = np.array([[4,2,1,1,1,2,3,2,1], [4,10,7,7,1,2,3,2,1]])\n",
    "y_predict = model.predict(X_predict)\n",
    "for row, y in zip(X_predict,y_predict):\n",
    "    print(\"{} belongs to class {}\".format(row, y))"
   ]
  }
 ],
 "metadata": {
  "kernelspec": {
   "display_name": "Python (amb-367)",
   "language": "python",
   "name": "amb-367"
  },
  "language_info": {
   "codemirror_mode": {
    "name": "ipython",
    "version": 3
   },
   "file_extension": ".py",
   "mimetype": "text/x-python",
   "name": "python",
   "nbconvert_exporter": "python",
   "pygments_lexer": "ipython3",
   "version": "3.6.7"
  }
 },
 "nbformat": 4,
 "nbformat_minor": 4
}
