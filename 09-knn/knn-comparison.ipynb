{
 "cells": [
  {
   "cell_type": "markdown",
   "metadata": {},
   "source": [
    "# Comparison between defined KNN and in-built sklearn algortihms"
   ]
  },
  {
   "cell_type": "code",
   "execution_count": 147,
   "metadata": {},
   "outputs": [],
   "source": [
    "import numpy as np\n",
    "from sklearn import preprocessing, neighbors\n",
    "from sklearn.model_selection import train_test_split\n",
    "from sklearn.metrics import accuracy_score\n",
    "from collections import Counter\n",
    "import pandas as pd\n",
    "import warnings\n",
    "warnings.filterwarnings(\"ignore\")"
   ]
  },
  {
   "cell_type": "code",
   "execution_count": 171,
   "metadata": {
    "scrolled": true
   },
   "outputs": [],
   "source": [
    "dataset = pd.read_csv('dataset/breast-cancer-wisconsin.data')\n",
    "# Replace NaN \n",
    "dataset.replace('?', -99999, inplace=True)\n",
    "# Drop id-column \n",
    "dataset.drop(['id'], axis=1, inplace=True)\n",
    "# Format data as type float \n",
    "data = dataset.astype(float).values.tolist()\n",
    "# Shuffle dataset before split \n",
    "np.random.shuffle(data)\n",
    "# Final dataset into matrix form \n",
    "data = np.array(data)\n",
    "\n",
    "# Get the full training and testing data including class label\n",
    "# up to 80%\n",
    "train_data = data[:int(train_size*len(data))]\n",
    "test_data = data[int(train_size*len(data)):]"
   ]
  },
  {
   "cell_type": "code",
   "execution_count": 172,
   "metadata": {},
   "outputs": [],
   "source": [
    "# Define function computing K-Nearest Neighbors using L2\n",
    "# default K = 5\n",
    "def k_nearest_neighbors(train_data, test_data, k=5):\n",
    "    y_predict = []\n",
    "    for test_row in test_data:\n",
    "        distances = []\n",
    "        for train_row in train_data: \n",
    "            euclidean_dist = np.linalg.norm(train_row[:-1] - test_row[:-1])\n",
    "            distances.append([euclidean_dist, train_row[-1:].astype(int)])\n",
    "        # Sort the list contains distances and get the k-th first elements \n",
    "        votes = [groups[1] for groups in sorted(distances)[:k]]\n",
    "        # Cast the result to List of number instead of List of arrays \n",
    "        votes = [v[0] for v in votes]\n",
    "        # Count the votes\n",
    "        label = Counter(votes).most_common(1)[0][0]\n",
    "        y_predict.append(label)\n",
    "    return y_predict"
   ]
  },
  {
   "cell_type": "markdown",
   "metadata": {},
   "source": [
    "## Testing using the defined function"
   ]
  },
  {
   "cell_type": "code",
   "execution_count": 170,
   "metadata": {
    "scrolled": true
   },
   "outputs": [
    {
     "name": "stdout",
     "output_type": "stream",
     "text": [
      "Testing accuracy using defined function: 0.9785714285714285\n"
     ]
    }
   ],
   "source": [
    "# Split Training and Testing set \n",
    "#X_train, X_test, y_train, y_test = train_test_split(X, y, test_size=0.2)\n",
    "y_predict = k_nearest_neighbors(train_data, test_data, k=3)\n",
    "\n",
    "y_predict = np.array(y_predict)\n",
    "y_test = test_data[:, -1:].flatten()\n",
    "\n",
    "print(\"Testing accuracy using defined function: {}\".format(accuracy_score(y_test, y_predict)))"
   ]
  },
  {
   "cell_type": "markdown",
   "metadata": {},
   "source": [
    "## Testing using sklearn function "
   ]
  },
  {
   "cell_type": "code",
   "execution_count": 169,
   "metadata": {},
   "outputs": [
    {
     "name": "stdout",
     "output_type": "stream",
     "text": [
      "Testing accuracy using in-built function: 0.9785714285714285\n"
     ]
    }
   ],
   "source": [
    "# Build model \n",
    "model = neighbors.KNeighborsClassifier(n_neighbors=3)\n",
    "# Train model \n",
    "model.fit(train_data[:,:-1], train_data[:,-1:])\n",
    "# Test model \n",
    "accuracy = model.score(test_data[:,:-1], test_data[:,-1:])\n",
    "# Get accuracy \n",
    "print(\"Testing accuracy using in-built function: {}\".format(accuracy))"
   ]
  }
 ],
 "metadata": {
  "kernelspec": {
   "display_name": "Python (amb-367)",
   "language": "python",
   "name": "amb-367"
  },
  "language_info": {
   "codemirror_mode": {
    "name": "ipython",
    "version": 3
   },
   "file_extension": ".py",
   "mimetype": "text/x-python",
   "name": "python",
   "nbconvert_exporter": "python",
   "pygments_lexer": "ipython3",
   "version": "3.6.7"
  }
 },
 "nbformat": 4,
 "nbformat_minor": 4
}
