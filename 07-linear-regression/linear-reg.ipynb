{
 "cells": [
  {
   "cell_type": "markdown",
   "metadata": {},
   "source": [
    "## Linear Regression "
   ]
  },
  {
   "cell_type": "code",
   "execution_count": 31,
   "metadata": {},
   "outputs": [],
   "source": [
    "import pandas as pd \n",
    "import numpy as np\n",
    "import matplotlib.pyplot as plt\n",
    "import warnings\n",
    "warnings.filterwarnings(\"ignore\")\n",
    "%matplotlib inline\n",
    "plt.rcParams['figure.facecolor'] = 'w'\n",
    "plt.rcParams['figure.figsize'] = [18, 16]\n",
    "plt.rcParams['figure.dpi'] = 60\n",
    "plt.rcParams['savefig.dpi'] = 60\n",
    "plt.rcParams['font.size'] = 14"
   ]
  },
  {
   "cell_type": "markdown",
   "metadata": {},
   "source": [
    "## Preprocessing data "
   ]
  },
  {
   "cell_type": "code",
   "execution_count": 32,
   "metadata": {},
   "outputs": [],
   "source": [
    "# Importing dataset \n",
    "# Here the dataset is a StockPrice TimeSeries for price forecasting  \n",
    "data = pd.read_csv('dataset/dataset-stock-prices-google.csv')\n",
    "#print(data.head())\n",
    "#print(data.columns.get_loc(\"Adj. Open\"))\n",
    "# Select fews features only\n",
    "# The relationship between features is valuable(Ex. High-Low difference tells the volatility of the day) \n",
    "data = data[['Adj. Open','Adj. High','Adj. Low','Adj. Close','Adj. Volume']]\n",
    "# Create new features \n",
    "#   --> Rate of the volatility in percent\n",
    "data['High-Low Percent diff'] = (data['Adj. High'] - data['Adj. Low']) / data['Adj. Close'] * 100.0\n",
    "data['Daily Percent change'] = (data['Adj. Close'] - data['Adj. Open']) / data['Adj. Open'] * 100.0\n",
    "data = data[['Adj. Close', 'High-Low Percent diff', 'Daily Percent change', 'Adj. Volume']]\n",
    "\n",
    "# Define the label(dependent variable)\n",
    "# Make \"Adjusted Close\" as label \n",
    "y_forecast_col = 'Adj. Close'\n",
    "\n",
    "# Fill NaN\n",
    "data.fillna(-99999, inplace=True)\n",
    "\n",
    "# Get number of testing data (8% of the dataset) \n",
    "import math\n",
    "no_test_data = int(math.ceil(0.01*len(data)))\n",
    "#print(data[y_forecast_col].head())\n",
    "\n",
    "# Get Label \n",
    "# Shift dataset from Down-to-Top so that we get the latest data\n",
    "data['label'] = data[y_forecast_col].shift(periods = -no_test_data)\n",
    "data.dropna(inplace=True)\n",
    "#data.tail()"
   ]
  },
  {
   "cell_type": "markdown",
   "metadata": {},
   "source": [
    "### Training "
   ]
  },
  {
   "cell_type": "code",
   "execution_count": 35,
   "metadata": {},
   "outputs": [
    {
     "name": "stdout",
     "output_type": "stream",
     "text": [
      "(1119,)\n"
     ]
    }
   ],
   "source": [
    "from sklearn import preprocessing, svm\n",
    "from sklearn.linear_model import LinearRegression\n",
    "from sklearn.model_selection import train_test_split\n",
    "from sklearn.metrics import mean_squared_error, r2_score\n",
    "\n",
    "X = np.array(data.drop(['label'], axis=1))\n",
    "y = np.array(data['label'])\n",
    "\n",
    "# Scaling to get Normalized data \n",
    "X = preprocessing.scale(X)\n",
    "\n",
    "# Split training and testing set\n",
    "X_train, X_test, y_train, y_test = train_test_split(X, y, test_size=0.2)\n",
    "\n",
    "# Create the linearReg model f\n",
    "#model = LinearRegression()\n",
    "# Create another models\n",
    "model = svm.SVR(kernel='poly')\n",
    "# Training\n",
    "model.fit(X_train, y_train)\n",
    "\n",
    "# Testing \n",
    "y_pred = model.predict(X_test)\n",
    "\n",
    "print(y_pred.shape)\n",
    "\n",
    "#print(model.score(X_test, y_test))\n",
    "\n",
    "# The coefficients\n",
    "#print('Coeff: {}'.format(model.score))\n",
    "# The mean squared error\n",
    "#print(\"MSE: {:05.2f}\".format(mean_squared_error(y_test, y_pred)))\n",
    "# Explained variance score: 1 is perfect prediction\n",
    "#print('Variance score: {:05.2f}'.format(r2_score(y_test, y_pred)))\n"
   ]
  }
 ],
 "metadata": {
  "kernelspec": {
   "display_name": "Python (amb-367)",
   "language": "python",
   "name": "amb-367"
  },
  "language_info": {
   "codemirror_mode": {
    "name": "ipython",
    "version": 3
   },
   "file_extension": ".py",
   "mimetype": "text/x-python",
   "name": "python",
   "nbconvert_exporter": "python",
   "pygments_lexer": "ipython3",
   "version": "3.6.7"
  }
 },
 "nbformat": 4,
 "nbformat_minor": 4
}
