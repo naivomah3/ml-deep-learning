{
 "cells": [
  {
   "cell_type": "markdown",
   "metadata": {},
   "source": [
    "## Linear Regression\n",
    "### Estimate the best fit values $\\beta $(slope) and $\\mathbf{b}$(y-Intercept) based on statistical formula\n",
    "#### The general linear equation would be \n",
    "$\n",
    "\\begin{align}\n",
    "    {\\displaystyle \\mathbf{Y}=  \\beta \\: \\mathbf{X} + \\mathbf{b} }\n",
    "\\end{align}\n",
    "$\n",
    "<br><br>\n",
    "where, <br>\n",
    "$\\beta $ : slope <br>\n",
    "$\\mathbf {b} $ : y-intercept \n",
    "\n",
    "#### Best fit $\\beta$ value:\n",
    "$ \n",
    "\\begin{align}\n",
    "\\beta = { \\frac {\\overline{x} \\cdot \\overline{y} - \\overline{xy} }  { \\left(\\overline{x}\\right)^2 - \\overline{x^2}} }\n",
    "\\end{align}\n",
    "$\n",
    "\n",
    "#### Best fit $\\mathbf{b}$ value:\n",
    "$\n",
    "\\begin{align}\n",
    "    \\mathbf{b} = \\overline{y} - \\beta \\: \\overline{x}\n",
    "\\end{align}\n",
    "$\n",
    "\n",
    "\n",
    "(cf. [Equations for slope and y-intercept](https://www.freecodecamp.org/news/machine-learning-mean-squared-error-regression-line-c7dde9a26b93/))\n"
   ]
  },
  {
   "cell_type": "markdown",
   "metadata": {},
   "source": [
    "### Importing librairies "
   ]
  },
  {
   "cell_type": "code",
   "execution_count": 7,
   "metadata": {},
   "outputs": [],
   "source": [
    "from statistics import mean \n",
    "import numpy as np\n",
    "import random\n",
    "import matplotlib.pyplot as plt\n",
    "plt.style.use('ggplot')\n",
    "plt.rcParams['figure.figsize'] = (12, 8)"
   ]
  },
  {
   "cell_type": "markdown",
   "metadata": {},
   "source": [
    "### Create a small dataset "
   ]
  },
  {
   "cell_type": "code",
   "execution_count": 2,
   "metadata": {},
   "outputs": [],
   "source": [
    "#X = np.array([1,2,3,4,5,6], dtype=np.float64)\n",
    "#Y = np.array([5,4,6,5,6,7], dtype=np.float64)\n",
    "\n",
    "# \"step\" in y \n",
    "# correlation: False;Negative correlation | True;Positive correlation  \n",
    "# variance: considering a range of values, and used to increase or decrease spread of data in \"y\"\n",
    "def create_dataset(n, variance, step=2, correlation=False):\n",
    "    val = 1\n",
    "    Y = []\n",
    "    for i in range(n):\n",
    "        y = val + random.randrange(-variance, variance)\n",
    "        Y.append(y)\n",
    "        if correlation:\n",
    "            val += step \n",
    "        else:\n",
    "            val -= step \n",
    "    X = [i for i in range(len(Y))]\n",
    "    \n",
    "    return np.array(X, dtype=np.float64), np.array(Y, dtype=np.float64) \n",
    "    \n",
    "X, Y = create_dataset(40, 10, 2, correlation=True)    "
   ]
  },
  {
   "cell_type": "markdown",
   "metadata": {},
   "source": [
    "### Computing the slope and y-intercept"
   ]
  },
  {
   "cell_type": "code",
   "execution_count": 3,
   "metadata": {},
   "outputs": [],
   "source": [
    "def best_fit_slope_intercept(X, Y):\n",
    "    beta = ( ( mean(X) * mean(Y) - mean(X*Y) ) / \n",
    "             ( mean(X)**2 - mean(X**2) ) \n",
    "           )\n",
    "    b = mean(Y) - beta * mean(X)\n",
    "    return beta, b\n",
    "\n",
    "beta, b = best_fit_slope_intercept(X,Y)"
   ]
  },
  {
   "cell_type": "markdown",
   "metadata": {},
   "source": [
    "### Plot the best fit line "
   ]
  },
  {
   "cell_type": "code",
   "execution_count": 8,
   "metadata": {},
   "outputs": [
    {
     "data": {
      "image/png": "[encoded data removed]",
      "text/plain": [
       "<Figure size 864x576 with 1 Axes>"
      ]
     },
     "metadata": {},
     "output_type": "display_data"
    }
   ],
   "source": [
    "y_regression = [(beta * x) + b for x in X]\n",
    "\n",
    "# Forecasting an unknown X\n",
    "predict_x = 8\n",
    "predict_y = (beta * predict_x) + b\n",
    "\n",
    "plt.plot(X,y_regression, linewidth=1, color='b')\n",
    "plt.scatter(predict_x,predict_y, s=100, c='g')\n",
    "plt.scatter(X,Y)\n",
    "plt.show()"
   ]
  },
  {
   "cell_type": "markdown",
   "metadata": {},
   "source": [
    "### Coefficient of determination: $R^2$- Error\n",
    "\n",
    "#### $R^{2}$ can be considered as accuracy in case of Regression problem "
   ]
  },
  {
   "cell_type": "markdown",
   "metadata": {},
   "source": [
    "$\n",
    "\\begin{align}\n",
    "    \\mathbf{R^2} = MSE = 1 - {\\frac {SE  \\hat{y}} {SE  \\overline{y}}}\n",
    "\\end{align}\n",
    "$\n",
    "<br><br>\n",
    "Where, <br>\n",
    "$SE \\hat{y}$: predicted-y squared error  <br>\n",
    "$SE \\overline{y}$: mean-y squared error  <br>"
   ]
  },
  {
   "cell_type": "code",
   "execution_count": 10,
   "metadata": {},
   "outputs": [
    {
     "name": "stdout",
     "output_type": "stream",
     "text": [
      "R-squared Error: 0.9411255430433307\n"
     ]
    }
   ],
   "source": [
    "def squared_error(Y, y_predict):\n",
    "    return sum((Y - y_predict)**2)\n",
    "\n",
    "def coef_determination(Y, y_predict):\n",
    "    y_mean = [mean(Y) for y in Y]\n",
    "    squared_error_reg = squared_error(Y, y_predict)\n",
    "    squared_error_y_mean = squared_error(Y, y_mean)\n",
    "    coef_det = 1 - (squared_error_reg / squared_error_y_mean)\n",
    "    return coef_det\n",
    "\n",
    "r_squared = coef_determination(Y, y_regression)\n",
    "\n",
    "print('R-squared Error: {}'.format(r_squared))"
   ]
  }
 ],
 "metadata": {
  "kernelspec": {
   "display_name": "Python (amb-367)",
   "language": "python",
   "name": "amb-367"
  },
  "language_info": {
   "codemirror_mode": {
    "name": "ipython",
    "version": 3
   },
   "file_extension": ".py",
   "mimetype": "text/x-python",
   "name": "python",
   "nbconvert_exporter": "python",
   "pygments_lexer": "ipython3",
   "version": "3.6.7"
  }
 },
 "nbformat": 4,
 "nbformat_minor": 4
}
