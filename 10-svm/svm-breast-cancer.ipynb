{
 "cells": [
  {
   "cell_type": "markdown",
   "metadata": {},
   "source": [
    "# SVM "
   ]
  },
  {
   "cell_type": "code",
   "execution_count": 3,
   "metadata": {},
   "outputs": [],
   "source": [
    "import numpy as np\n",
    "from sklearn import preprocessing, neighbors, svm\n",
    "from sklearn.model_selection import train_test_split\n",
    "import pandas as pd\n",
    "import warnings\n",
    "warnings.filterwarnings(\"ignore\")"
   ]
  },
  {
   "cell_type": "code",
   "execution_count": 12,
   "metadata": {},
   "outputs": [],
   "source": [
    "# Importing dataset\n",
    "data = pd.read_csv('dataset/breast-cancer-wisconsin.data')\n",
    "\n",
    "# Replave NaN\n",
    "data.replace('?', -99999, inplace=True)\n",
    "# Drop id\n",
    "data.drop(['id'], axis=1, inplace=True)\n",
    "\n",
    "X = np.array(data.drop(['class'], axis=1))\n",
    "y = np.array(data['class'])"
   ]
  },
  {
   "cell_type": "markdown",
   "metadata": {},
   "source": [
    "## Two-class classification\n",
    "\n",
    "## Methodologies: \n",
    "\n",
    "### 1. One-Vs-Rest \n",
    "\n",
    "<img src=\"images/one-vs-rest-svm.png\" alt=\"Kernels with svm\" src=\"https://pythonprogramming.net/support-vector-machine-parameters-machine-learning-tutorial/\">\n",
    "\n",
    "source: [Support Vector Machine Parameters](https://pythonprogramming.net/support-vector-machine-parameters-machine-learning-tutorial/)\n",
    "\n",
    "\n",
    "### 2. One-Vs-One \n",
    "\n",
    "<img src=\"images/one-vs-rest-svm.png\" alt=\"Kernels with svm\" src=\"https://pythonprogramming.net/support-vector-machine-parameters-machine-learning-tutorial/\">\n",
    "\n",
    "source: [Support Vector Machine Parameters](https://pythonprogramming.net/support-vector-machine-parameters-machine-learning-tutorial/)"
   ]
  },
  {
   "cell_type": "code",
   "execution_count": 13,
   "metadata": {},
   "outputs": [],
   "source": [
    "# Split Training and Testing set \n",
    "X_train, X_test, y_train, y_test = train_test_split(X, y, test_size=0.2)"
   ]
  },
  {
   "cell_type": "code",
   "execution_count": 17,
   "metadata": {},
   "outputs": [
    {
     "name": "stdout",
     "output_type": "stream",
     "text": [
      "0.9571428571428572\n"
     ]
    }
   ],
   "source": [
    "# Parameters can be considered as important  \n",
    "# C: smoothing/regularization in case of Soft Marging \n",
    "# kernel: kernel(by default='RBF') {poly, rbf, linear}\n",
    "# decision_function_shape: methodologies(default='ovo') {ovo, ovr}\n",
    "model = svm.SVC()\n",
    "model.fit(X_train, y_train)\n",
    "accuracy = model.score(X_test, y_test)\n",
    "\n",
    "print(accuracy)"
   ]
  }
 ],
 "metadata": {
  "kernelspec": {
   "display_name": "Python (amb-367)",
   "language": "python",
   "name": "amb-367"
  },
  "language_info": {
   "codemirror_mode": {
    "name": "ipython",
    "version": 3
   },
   "file_extension": ".py",
   "mimetype": "text/x-python",
   "name": "python",
   "nbconvert_exporter": "python",
   "pygments_lexer": "ipython3",
   "version": "3.6.7"
  }
 },
 "nbformat": 4,
 "nbformat_minor": 4
}
