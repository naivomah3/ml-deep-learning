{
 "cells": [
  {
   "cell_type": "markdown",
   "metadata": {},
   "source": [
    "# Handle _High-Cardinality_ dataset "
   ]
  },
  {
   "cell_type": "markdown",
   "metadata": {},
   "source": [
    "## Approach: \n",
    "Replace label value by the count of amount of times each value appears in the dataset(or simply called Count Frequency of labels)\n"
   ]
  },
  {
   "cell_type": "code",
   "execution_count": 17,
   "metadata": {},
   "outputs": [],
   "source": [
    "import numpy as np\n",
    "import pandas as pd"
   ]
  },
  {
   "cell_type": "code",
   "execution_count": 18,
   "metadata": {},
   "outputs": [
    {
     "name": "stdout",
     "output_type": "stream",
     "text": [
      "   id job area   income     aspect  subscriptions  dist_healthy  save_rate  \\\n",
      "0   1  vv    c  50876.0  13.100000              1      9.017895         35   \n",
      "1   2  kd    c  60369.0  18.625000              2      7.766643         59   \n",
      "2   3  pe    c  55126.0  34.766667              1      3.632069          6   \n",
      "3   4  11    c  51690.0  15.808333              1      5.372942         16   \n",
      "4   5  kl    d  28347.0  40.941667              3      3.822477         20   \n",
      "5   6  e2    c  70854.0  40.400000              1     14.893343         87   \n",
      "6   7  kl    d  38726.0  30.975000              3      3.822477         33   \n",
      "7   8  nb    a  55162.0  26.966667              2      4.312097         17   \n",
      "8   9  al    c  67311.0  32.383333              0     25.093772        169   \n",
      "9  10  pe    a  63344.0  38.233333              1      2.816034          3   \n",
      "\n",
      "   dist_unhealthy  age  pop_dense  retail_dense     crime product  \n",
      "0       11.738935   49   0.885827      0.492126  0.071100       b  \n",
      "1        6.805396   51   0.874016      0.342520  0.400809       c  \n",
      "2       13.671772   44   0.944882      0.724409  0.207723       b  \n",
      "3        4.333286   50   0.889764      0.444882  0.361216       b  \n",
      "4        5.967121   38   0.744094      0.661417  0.068033       a  \n",
      "5       20.340593   43   0.866142      0.673228  0.473581       d  \n",
      "6        9.480399   39   0.976378      0.874016  0.092151       f  \n",
      "7       29.219896   44   1.000000      0.724409  0.162833       b  \n",
      "8       10.927357   45   0.952756      0.681102  0.096333       c  \n",
      "9       21.915695   42   0.897638      0.724409  0.173986       c  \n"
     ]
    },
    {
     "data": {
      "text/plain": [
       "33"
      ]
     },
     "execution_count": 18,
     "metadata": {},
     "output_type": "execute_result"
    }
   ],
   "source": [
    "dataset = pd.read_csv(\"dataset/simple-dataset.csv\", na_values=['NA','?'])\n",
    "print(dataset.head(10))\n",
    "# Show dependent variable with high cardinality\n",
    "len(dataset[\"job\"].unique())"
   ]
  },
  {
   "cell_type": "markdown",
   "metadata": {},
   "source": [
    "## Dealing with Count_Frequency of each label to later apply Mapping"
   ]
  },
  {
   "cell_type": "code",
   "execution_count": 19,
   "metadata": {},
   "outputs": [
    {
     "name": "stdout",
     "output_type": "stream",
     "text": [
      "{'pz': 411, 'pe': 208, 'qp': 189, 'kd': 141, 'kl': 135, 'nb': 118, 'de': 110, 'nn': 93, 'vv': 93, 'al': 75, 'dz': 56, 'kw': 47, '11': 43, 'am': 43, 'f8': 42, 'mm': 32, 'bf': 27, 'by': 24, 'e2': 23, 'po': 19, 'ax': 13, 'ob': 12, 'ke': 11, 'gv': 8, 'cv': 7, 'gj': 6, 'rn': 4, 'qw': 4, 'sa': 2, 'pq': 1, 'kp': 1, 'zz': 1, 'ks': 1}\n",
      "   id  job area   income     aspect  subscriptions  dist_healthy  save_rate  \\\n",
      "0   1   93    c  50876.0  13.100000              1      9.017895         35   \n",
      "1   2  141    c  60369.0  18.625000              2      7.766643         59   \n",
      "2   3  208    c  55126.0  34.766667              1      3.632069          6   \n",
      "3   4   43    c  51690.0  15.808333              1      5.372942         16   \n",
      "4   5  135    d  28347.0  40.941667              3      3.822477         20   \n",
      "5   6   23    c  70854.0  40.400000              1     14.893343         87   \n",
      "6   7  135    d  38726.0  30.975000              3      3.822477         33   \n",
      "7   8  118    a  55162.0  26.966667              2      4.312097         17   \n",
      "8   9   75    c  67311.0  32.383333              0     25.093772        169   \n",
      "9  10  208    a  63344.0  38.233333              1      2.816034          3   \n",
      "\n",
      "   dist_unhealthy  age  pop_dense  retail_dense     crime product  \n",
      "0       11.738935   49   0.885827      0.492126  0.071100       b  \n",
      "1        6.805396   51   0.874016      0.342520  0.400809       c  \n",
      "2       13.671772   44   0.944882      0.724409  0.207723       b  \n",
      "3        4.333286   50   0.889764      0.444882  0.361216       b  \n",
      "4        5.967121   38   0.744094      0.661417  0.068033       a  \n",
      "5       20.340593   43   0.866142      0.673228  0.473581       d  \n",
      "6        9.480399   39   0.976378      0.874016  0.092151       f  \n",
      "7       29.219896   44   1.000000      0.724409  0.162833       b  \n",
      "8       10.927357   45   0.952756      0.681102  0.096333       c  \n",
      "9       21.915695   42   0.897638      0.724409  0.173986       c  \n"
     ]
    }
   ],
   "source": [
    "# Store Count Frequency in a dict\n",
    "label_frequency = dataset.job.value_counts().to_dict()\n",
    "print(label_frequency)\n",
    "\n",
    "# Map Label to the corresponding Count Frequency value \n",
    "dataset.job = dataset.job.map(label_frequency) # In-place replacement \n",
    "print(dataset.head(10))"
   ]
  },
  {
   "cell_type": "markdown",
   "metadata": {},
   "source": [
    "## Downside:\n",
    "#### Label having same frequence will ba mapped with the same value "
   ]
  }
 ],
 "metadata": {
  "kernelspec": {
   "display_name": "Python (amb-367)",
   "language": "python",
   "name": "amb-367"
  },
  "language_info": {
   "codemirror_mode": {
    "name": "ipython",
    "version": 3
   },
   "file_extension": ".py",
   "mimetype": "text/x-python",
   "name": "python",
   "nbconvert_exporter": "python",
   "pygments_lexer": "ipython3",
   "version": "3.6.7"
  }
 },
 "nbformat": 4,
 "nbformat_minor": 4
}
