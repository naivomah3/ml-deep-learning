{
 "cells": [
  {
   "cell_type": "markdown",
   "metadata": {},
   "source": [
    "## Implementation of graph theory using NetworkX "
   ]
  },
  {
   "cell_type": "markdown",
   "metadata": {},
   "source": [
    "### Datasets "
   ]
  },
  {
   "cell_type": "markdown",
   "metadata": {},
   "source": [
    "The dataset includes cities and distance information as shown by the image below\n",
    "<img src=\"dataset-cities.png\">"
   ]
  },
  {
   "cell_type": "markdown",
   "metadata": {},
   "source": [
    "### Create dataset\n"
   ]
  },
  {
   "cell_type": "code",
   "execution_count": 1,
   "metadata": {},
   "outputs": [],
   "source": [
    "edgelist = [['Mannheim', 'Frankfurt', 85], \n",
    "            ['Mannheim', 'Karlsruhe', 80], \n",
    "            ['Erfurt', 'Wurzburg', 186], \n",
    "            ['Munchen', 'Numberg', 167], \n",
    "            ['Munchen', 'Augsburg', 84], \n",
    "            ['Munchen', 'Kassel', 502], \n",
    "            ['Numberg', 'Stuttgart', 183], \n",
    "            ['Numberg', 'Wurzburg', 103], \n",
    "            ['Numberg', 'Munchen', 167], \n",
    "            ['Stuttgart', 'Numberg', 183], \n",
    "            ['Augsburg', 'Munchen', 84], \n",
    "            ['Augsburg', 'Karlsruhe', 250], \n",
    "            ['Kassel', 'Munchen', 502], \n",
    "            ['Kassel', 'Frankfurt', 173], \n",
    "            ['Frankfurt', 'Mannheim', 85], \n",
    "            ['Frankfurt', 'Wurzburg', 217], \n",
    "            ['Frankfurt', 'Kassel', 173], \n",
    "            ['Wurzburg', 'Numberg', 103], \n",
    "            ['Wurzburg', 'Erfurt', 186], \n",
    "            ['Wurzburg', 'Frankfurt', 217], \n",
    "            ['Karlsruhe', 'Mannheim', 80], \n",
    "            ['Karlsruhe', 'Augsburg', 250],\n",
    "            [\"Mumbai\", \"Delhi\",400],\n",
    "            [\"Delhi\", \"Kolkata\",500],\n",
    "            [\"Kolkata\", \"Bangalore\",600],\n",
    "            [\"TX\", \"NY\",1200],\n",
    "            [\"ALB\", \"NY\",800]\n",
    "           ]"
   ]
  },
  {
   "cell_type": "markdown",
   "metadata": {},
   "source": [
    "### importing libraries "
   ]
  },
  {
   "cell_type": "code",
   "execution_count": 3,
   "metadata": {},
   "outputs": [],
   "source": [
    "import networkx as nx"
   ]
  },
  {
   "cell_type": "markdown",
   "metadata": {},
   "source": [
    "### Create the graph based on the dataset "
   ]
  },
  {
   "cell_type": "code",
   "execution_count": 5,
   "metadata": {},
   "outputs": [],
   "source": [
    "graph = nx.Graph()\n",
    "for edge in edgelist:\n",
    "    graph.add_edge(edge[0], edge[1], weight=edge[2])"
   ]
  },
  {
   "cell_type": "code",
   "execution_count": 8,
   "metadata": {},
   "outputs": [
    {
     "name": "stdout",
     "output_type": "stream",
     "text": [
      "List0: {'Numberg', 'Augsburg', 'Munchen', 'Erfurt', 'Stuttgart', 'Karlsruhe', 'Mannheim', 'Frankfurt', 'Wurzburg', 'Kassel'}\n",
      "List1: {'Bangalore', 'Delhi', 'Kolkata', 'Mumbai'}\n",
      "List2: {'NY', 'TX', 'ALB'}\n"
     ]
    }
   ],
   "source": [
    "# List all set of connected cities in the graph \n",
    "for i, x in enumerate(nx.connected_components(graph)):\n",
    "    print('List{}: {}'.format(str(i), x))\n",
    "    "
   ]
  },
  {
   "cell_type": "markdown",
   "metadata": {},
   "source": [
    "## Shortest Path(Dijkstra's Algorithm) "
   ]
  },
  {
   "cell_type": "code",
   "execution_count": 10,
   "metadata": {},
   "outputs": [
    {
     "name": "stdout",
     "output_type": "stream",
     "text": [
      "Path: ['Munchen', 'Numberg', 'Wurzburg', 'Frankfurt']\n",
      "Length: 487\n"
     ]
    }
   ],
   "source": [
    "# determine the Shortest Path from Munchen to Frankfurt\n",
    "mun_to_fran = nx.shortest_path(graph, 'Munchen', 'Frankfurt', weight='weight')\n",
    "mun_to_fran_len = nx.shortest_path_length(graph, 'Munchen', 'Frankfurt', weight='weight')\n",
    "print('Path: {}'.format(mun_to_fran))\n",
    "print('Length: {} Km'.format(mun_to_fran_len))"
   ]
  },
  {
   "cell_type": "markdown",
   "metadata": {},
   "source": [
    "## Minimun Spanning Tree"
   ]
  },
  {
   "cell_type": "code",
   "execution_count": 27,
   "metadata": {},
   "outputs": [
    {
     "data": {
      "image/png": "[encoded data removed]",
      "text/plain": [
       "<Figure size 432x288 with 1 Axes>"
      ]
     },
     "metadata": {},
     "output_type": "display_data"
    }
   ],
   "source": [
    "graph_mst = nx.minimum_spanning_tree(graph)\n",
    "nx.draw_networkx(graph_mst)"
   ]
  },
  {
   "cell_type": "markdown",
   "metadata": {},
   "source": [
    "## PageRank \n",
    "In short PageRank is a \"vote\", by all the other pages on the Web, about how important a page is. A link to a page counts as a vote of support. If there’s no link there’s no support (but it’s an abstention from voting rather than a vote against the page). \n",
    "Can be calculated as follow: <br><br>\n",
    "\\begin{equation*}\n",
    "PR_{t+1}(P_j) = (1-d) \\times \\frac{1}{N} + \\sum\\limits_{P_j} \\frac{PR_{t}(P_j)} {C(P_j)}\n",
    "\\quad\\quad \\text{where}.\n",
    "\\end{equation*}\n",
    "\n",
    "$d$: relative damping parameter(usually by default=0.85) <br>\n",
    "$N$: number of web pages <br>\n",
    "$PR_{t+1}$: PageRank of web page $P_j$ at instant $t+1$ <br>\n",
    "$PR_{t}$: PageRank of web page $P_j$ at instant $t$ <br>\n",
    "$C(P_j)$: number of outgoing links of the set of web pages which are pointed to the current web page <br> \n",
    "<br>\n",
    "\n",
    "The dataset used in the following is a simple example of directed Nodes in which each Node is represented by an Integer ID and Weights are set to be 1<br> \n",
    "<img src=\"pagerank-dataset.png\">"
   ]
  },
  {
   "cell_type": "code",
   "execution_count": 83,
   "metadata": {},
   "outputs": [],
   "source": [
    "# Initialize directed graph\n",
    "G = nx.DiGraph()\n",
    " \n",
    "# Add edges (implicitely adds nodes)\n",
    "G.add_edge(1,6, weight=1)\n",
    "G.add_edge(2,6, weight=1)\n",
    "G.add_edge(3,6, weight=1)\n",
    "G.add_edge(4,6, weight=1)\n",
    "G.add_edge(5,6, weight=1)\n",
    "G.add_edge(4,5, weight=1)\n",
    "G.add_edge(6,7, weight=1)\n",
    "\n",
    "# Compute pagerank (keys are node IDs, values are pageranks)\n",
    "pr = nx.pagerank(G)"
   ]
  },
  {
   "cell_type": "code",
   "execution_count": 91,
   "metadata": {},
   "outputs": [
    {
     "name": "stdout",
     "output_type": "stream",
     "text": [
      "[(7, 0.3376072697864589), (6, 0.3237455268954062), (5, 0.08895357136701444), (1, 0.06242340798778012), (2, 0.06242340798778012), (3, 0.06242340798778012), (4, 0.06242340798778012)] \n",
      "\n",
      "0.3376072697864589\n",
      "0.3237455268954062\n",
      "0.08895357136701444\n",
      "0.06242340798778012\n",
      "0.06242340798778012\n",
      "0.06242340798778012\n",
      "0.06242340798778012\n"
     ]
    },
    {
     "data": {
      "text/plain": [
       "1.0"
      ]
     },
     "execution_count": 91,
     "metadata": {},
     "output_type": "execute_result"
    }
   ],
   "source": [
    "# Sorted PageRank showing the most influenced node \n",
    "import operator\n",
    "sorted_pagerank = sorted(pr.items(), key=operator.itemgetter(1),reverse = True)\n",
    "print('{} \\n'.format(sorted_pagerank))\n",
    "\n",
    "total = 0\n",
    "for (k,v) in sorted_pagerank:\n",
    "    print(v)\n",
    "    total += v\n",
    "# The page ranks should be equal to 1\n",
    "print(total)"
   ]
  }
 ],
 "metadata": {
  "kernelspec": {
   "display_name": "Python (amb-367)",
   "language": "python",
   "name": "amb-367"
  },
  "language_info": {
   "codemirror_mode": {
    "name": "ipython",
    "version": 3
   },
   "file_extension": ".py",
   "mimetype": "text/x-python",
   "name": "python",
   "nbconvert_exporter": "python",
   "pygments_lexer": "ipython3",
   "version": "3.6.7"
  }
 },
 "nbformat": 4,
 "nbformat_minor": 4
}
