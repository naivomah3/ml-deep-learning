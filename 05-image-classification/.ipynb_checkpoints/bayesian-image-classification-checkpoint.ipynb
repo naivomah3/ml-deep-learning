{
 "cells": [
  {
   "cell_type": "markdown",
   "metadata": {},
   "source": [
    "## Image Classification "
   ]
  },
  {
   "cell_type": "markdown",
   "metadata": {},
   "source": [
    "### Importing libraries"
   ]
  },
  {
   "cell_type": "code",
   "execution_count": 188,
   "metadata": {},
   "outputs": [],
   "source": [
    "import numpy as np \n",
    "import pandas as pd\n",
    "import matplotlib.image as plt_img\n",
    "import matplotlib.pyplot as plt\n",
    "%matplotlib inline\n",
    "plt.rcParams['figure.facecolor'] = 'w'\n",
    "plt.rcParams['figure.figsize'] = [18, 16]\n",
    "plt.rcParams['figure.dpi'] = 80\n",
    "plt.rcParams['savefig.dpi'] = 80\n",
    "plt.rcParams['font.size'] = 14"
   ]
  },
  {
   "cell_type": "markdown",
   "metadata": {},
   "source": [
    "### Data preprocessing"
   ]
  },
  {
   "cell_type": "code",
   "execution_count": 189,
   "metadata": {},
   "outputs": [],
   "source": [
    "# Images are separated respectively upon the 4 channels (RBGI:Red-Green-Blue-Intensity)\n",
    "# Images are part of training data \n",
    "\n",
    "# Get coordinates from files \n",
    "# Coordinates are used to get the pixelwise values of each channel(RGBI) w.r.t the class(River and Non-River)\n",
    "cws_path = '05-image-classification/dataset'\n",
    "data_river = pd.read_csv('dataset/river.txt', sep=\" \", usecols=[0,1],  names=[\"x_coordinate\", \"y_coordinate\"], header=None)\n",
    "data_non_river = pd.read_csv('dataset/non_river.txt', sep=\" \", usecols=[0,1],  names=[\"x_coordinate\", \"y_coordinate\"], header=None)\n",
    "# Map coordinates in a list \n",
    "x_river = list(map(int, data_river[\"x_coordinate\"]))\n",
    "y_river = list(map(int, data_river[\"y_coordinate\"]))\n",
    "x_non_river = list(map(int, data_non_river[\"x_coordinate\"]))\n",
    "y_non_river = list(map(int, data_non_river[\"y_coordinate\"]))\n",
    "\n",
    "# Get a matrix of each image in each channel upon each channel's file\n",
    "mat_img_R = plt_img.imread('dataset/band1(R).png')\n",
    "mat_img_G = plt_img.imread('dataset/band2(G).png')\n",
    "mat_img_B = plt_img.imread('dataset/band3(B).png')\n",
    "mat_img_I = plt_img.imread('dataset/band4(I).png')\n",
    "\n",
    "# Read Ground_truth image \n",
    "mat_img_GT = plt_img.imread('dataset/ground_truth.png')\n",
    "\n",
    "# Place holders  \n",
    "x_riv_R = []\n",
    "x_riv_B = []\n",
    "x_riv_G = []\n",
    "x_riv_I = []\n",
    "x_non_riv_R = []\n",
    "x_non_riv_B = []\n",
    "x_non_riv_G = []\n",
    "x_non_riv_I = []\n",
    "\n",
    "# Extract coordinates values for class River refered from the coordinates given within the .txt file\n",
    "for x_r, y_r in zip(x_river, y_river): \n",
    "    x_riv_R.append(mat_img_R[x_r, y_r])\n",
    "    x_riv_G.append(mat_img_G[x_r, y_r])\n",
    "    x_riv_B.append(mat_img_B[x_r, y_r])\n",
    "    x_riv_I.append(mat_img_I[x_r, y_r])\n",
    "# Extract coordinates values for class Non-River refered from the coordinates given within the .txt file\n",
    "for x_r, y_r in zip(x_non_river, y_non_river): \n",
    "    x_non_riv_R.append(mat_img_R[x_r, y_r])\n",
    "    x_non_riv_G.append(mat_img_G[x_r, y_r])\n",
    "    x_non_riv_B.append(mat_img_B[x_r, y_r])\n",
    "    x_non_riv_I.append(mat_img_I[x_r, y_r])\n",
    "    \n",
    "# Create Class Label for our 2 classes {River and Non-River}\n",
    "y_river = np.ones((len(x_river),) , dtype=int)\n",
    "y_non_river = np.zeros((len(x_non_river),) , dtype=int)\n",
    "\n",
    "# Create the Column Label \n",
    "y = np.concatenate((y_river, y_non_river) , axis=None)\n",
    "\n",
    "# Create Pandas Dataframe for Training data\n",
    "# Each Column represents a channel which is a feature   \n",
    "dataset_dict = {\n",
    "        'Red': x_riv_R + x_non_riv_R,\n",
    "        'Green' : x_riv_G + x_non_riv_G,\n",
    "        'Blue' : x_riv_B + x_non_riv_B,\n",
    "        'Intensity' : x_riv_I + x_non_riv_I,\n",
    "        'Label' : y\n",
    "}\n",
    "\n",
    "# The final dataset \n",
    "dataset = pd.DataFrame(dataset_dict)\n",
    "#dataset.head()\n",
    "\n",
    "# Suffle the dataset \n",
    "dataset = dataset.sample(frac=0.8).reset_index(drop=True)\n",
    "#dataset.head()"
   ]
  },
  {
   "cell_type": "markdown",
   "metadata": {},
   "source": [
    "### Training "
   ]
  },
  {
   "cell_type": "code",
   "execution_count": 190,
   "metadata": {},
   "outputs": [
    {
     "data": {
      "text/plain": [
       "GaussianNB(priors=None, var_smoothing=1e-09)"
      ]
     },
     "execution_count": 190,
     "metadata": {},
     "output_type": "execute_result"
    }
   ],
   "source": [
    "from sklearn.naive_bayes import GaussianNB\n",
    "from sklearn.metrics import accuracy_score\n",
    "X_train = dataset.iloc[:,:4].values\n",
    "y_train = dataset.iloc[:,4:].values\n",
    "\n",
    "model = GaussianNB()\n",
    "model.fit(X_train, np.ravel(y_train))"
   ]
  },
  {
   "cell_type": "markdown",
   "metadata": {},
   "source": [
    "### Testing "
   ]
  },
  {
   "cell_type": "code",
   "execution_count": 191,
   "metadata": {},
   "outputs": [
    {
     "name": "stdout",
     "output_type": "stream",
     "text": [
      "PRIOR PROBABILITY : [0.6557377 0.3442623]\n",
      "ACCURACY : 99.7482 %\n"
     ]
    },
    {
     "data": {
      "image/png": "[encoded data removed]",
      "text/plain": [
       "<Figure size 1440x1280 with 2 Axes>"
      ]
     },
     "metadata": {},
     "output_type": "display_data"
    }
   ],
   "source": [
    "# the same dataset given by images channels used previously are used for Tesing purpose \n",
    "X_test = np.array([mat_img_R.ravel(), mat_img_G.ravel(), mat_img_B.ravel(), mat_img_I.ravel()]).T\n",
    "y_test = mat_img_GT.ravel()\n",
    "\n",
    "# data prediction \n",
    "y_predict = model.predict(X_test)\n",
    "\n",
    "accuracy = accuracy_score(y_test, y_predict)\n",
    "#print(accuracy)\n",
    "\n",
    "print('PRIOR PROBABILITY : {}'.format(model.class_prior_))\n",
    "print('ACCURACY : {:05.4f} %'.format(accuracy*100))\n",
    "\n",
    "# Get the Goung_truth and the Predict images\n",
    "ground_truth_image = mat_img_GT\n",
    "predicted_image = np.reshape(y_predict, (512, 512))\n",
    "\n",
    "# Ploting the the Actual Image and the Predicted Image \n",
    "fig = plt.figure()\n",
    "actual_fig = fig.add_subplot(1,2,1)\n",
    "actual_fig.set_title('Actual image(Ground Truth)')\n",
    "plt.imshow(ground_truth_image)\n",
    "predict_fig = fig.add_subplot(1,2,2)\n",
    "predict_fig.set_title('Predicted image')\n",
    "plt.imshow(predicted_image)\n",
    "plt.show()"
   ]
  },
  {
   "cell_type": "markdown",
   "metadata": {},
   "source": [
    "### Testing for different Prior Probabilities "
   ]
  },
  {
   "cell_type": "code",
   "execution_count": 192,
   "metadata": {},
   "outputs": [
    {
     "name": "stdout",
     "output_type": "stream",
     "text": [
      "         PRIOR PROBA  TRUE PREDICTED  MISPREDICTED   ACCURACY\n",
      "0   [0.0005, 0.9995]          259685          2459  99.0620 %\n",
      "1   [0.0505, 0.9495]          261257           887  99.6616 %\n",
      "2   [0.1005, 0.8995]          261280           864  99.6704 %\n",
      "3   [0.1505, 0.8495]          261321           823  99.6861 %\n",
      "4   [0.2005, 0.7995]          261423           721  99.7250 %\n",
      "5   [0.2505, 0.7495]          261471           673  99.7433 %\n",
      "6   [0.3005, 0.6995]          261472           672  99.7437 %\n",
      "7   [0.3505, 0.6495]          261467           677  99.7417 %\n",
      "8   [0.4005, 0.5995]          261460           684  99.7391 %\n",
      "9   [0.4505, 0.5495]          261454           690  99.7368 %\n",
      "10  [0.5005, 0.4995]          261459           685  99.7387 %\n",
      "11  [0.5505, 0.4495]          261447           697  99.7341 %\n",
      "12  [0.6005, 0.3995]          261481           663  99.7471 %\n",
      "13  [0.6505, 0.3495]          261482           662  99.7475 %\n",
      "14  [0.7005, 0.2995]          261503           641  99.7555 %\n",
      "15  [0.7505, 0.2495]          261512           632  99.7589 %\n",
      "16  [0.8005, 0.1995]          261494           650  99.7520 %\n",
      "17  [0.8505, 0.1495]          261465           679  99.7410 %\n",
      "18  [0.9005, 0.0995]          261426           718  99.7261 %\n",
      "19  [0.9505, 0.0495]          261400           744  99.7162 %\n"
     ]
    }
   ],
   "source": [
    "# prior_c1: Prior Proba for Class = C1(River) \n",
    "# prior_c2: Proba for Class = C2(Non_River)\n",
    "prior_c1 = 0.0005\n",
    "prior_c2 = 0.9995\n",
    "\n",
    "# Initializing data for Pandas Dataframe showing the results for different Prior Probabilities and their effet on Accuracy\n",
    "prior_probabilities = []\n",
    "n_miss_predicted = []\n",
    "n_true_predicted = []\n",
    "n_accuracy = []\n",
    "\n",
    "while (prior_c1 <= 1):\n",
    "    model = GaussianNB(priors=[prior_c1, prior_c2])\n",
    "    model.fit(X_train, np.ravel(y_train))\n",
    "    y_predict = model.predict(X_test)\n",
    "    mis_predicted = [1 for x, y in zip(y_predict, y_test) if x != y]\n",
    "    true_predicted = [1 for x, y in zip(y_predict, y_test) if x == y]\n",
    "    accuracy = accuracy_score(y_predict, y_test)\n",
    "    prior_probabilities.append(['{:05.4f}'.format(prior_c1), '{:05.4f}'.format(prior_c2)])\n",
    "    n_miss_predicted.append(len(mis_predicted))\n",
    "    n_true_predicted.append(len(true_predicted))\n",
    "    n_accuracy.append('{:05.4f} %'.format(accuracy*100))\n",
    "    # Increment 0.05 the Prior Proba of Class=C1(River) and decrement 0.05 for Class=C2(Non_River)\n",
    "    prior_c1 += 0.05\n",
    "    prior_c2 -= 0.05\n",
    "\n",
    "# Create Pandas Dataframe for showing results \n",
    "results_data_frame = {\n",
    "    'PRIOR PROBA': prior_probabilities,\n",
    "    'TRUE PREDICTED' : n_true_predicted,\n",
    "    'MISPREDICTED' : n_miss_predicted,\n",
    "    'ACCURACY' : n_accuracy\n",
    "}\n",
    "\n",
    "pd_results_data_frame = pd.DataFrame(results_data_frame)\n",
    "# Print Results dataframe\n",
    "print(pd_results_data_frame)\n"
   ]
  }
 ],
 "metadata": {
  "kernelspec": {
   "display_name": "Python (amb-367)",
   "language": "python",
   "name": "amb-367"
  },
  "language_info": {
   "codemirror_mode": {
    "name": "ipython",
    "version": 3
   },
   "file_extension": ".py",
   "mimetype": "text/x-python",
   "name": "python",
   "nbconvert_exporter": "python",
   "pygments_lexer": "ipython3",
   "version": "3.6.7"
  }
 },
 "nbformat": 4,
 "nbformat_minor": 4
}
