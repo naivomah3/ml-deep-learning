{
 "cells": [
  {
   "cell_type": "markdown",
   "metadata": {},
   "source": [
    "# Artificial Neural Nets - Gradient Descent \n",
    "\n",
    "#### The objective of the below implementation is to show how SGD(Stochastic Gradient Descent) can be used to optimize the networks\n",
    "For better understanding, we assume a simple architecture which has 2 input units and 1 output layer. <br>\n",
    "The output layer uses `sigmoid` as activation function. MSE(MeanSquaredError) is used as a Loss function at the output layer. "
   ]
  },
  {
   "cell_type": "code",
   "execution_count": 68,
   "metadata": {},
   "outputs": [],
   "source": [
    "import numpy as np\n",
    "import matplotlib.pyplot as plt\n",
    "from matplotlib import style\n",
    "style.use('ggplot')\n",
    "plt.rcParams['figure.figsize'] = (12, 7)\n",
    "plt.rcParams['lines.linewidth'] = 2\n",
    "plt.rcParams['lines.color'] = 'r'"
   ]
  },
  {
   "cell_type": "code",
   "execution_count": 116,
   "metadata": {},
   "outputs": [],
   "source": [
    "def sigmoid(z):\n",
    "    return 1.0 / (1 + np.exp(-1 * z))\n",
    "\n",
    "def loss(y_predict, y_target):\n",
    "    return np.power((y_predict - y_target), 2)\n",
    "\n",
    "# derivative of loss (w.r.t y_predict) \n",
    "def d_loss(y_predict, y_target):\n",
    "    return 2.0 * (y_predict - y_target)\n",
    "\n",
    "# derivative of sigmoid (w.r.t z)\n",
    "def d_sigmoid(z):\n",
    "    return sigmoid(z) * (1.0 - sigmoid(z))\n",
    "\n",
    "# derivative of output z [w.r.t x(input x1 or x2)] as z = x1.w1 + x2.w2\n",
    "def d_z(x):\n",
    "    return x\n"
   ]
  },
  {
   "cell_type": "code",
   "execution_count": 81,
   "metadata": {},
   "outputs": [],
   "source": [
    "# Define the Gradient Descent function \n",
    "# backward_result= result of the partial derivative of the backward pass\n",
    "# lr= Learning Rate\n",
    "def gradient_descent(w, backward_result, lr):\n",
    "    return w - lr * backward_result"
   ]
  },
  {
   "cell_type": "code",
   "execution_count": 117,
   "metadata": {},
   "outputs": [
    {
     "name": "stdout",
     "output_type": "stream",
     "text": [
      "Input Vector: [0.1 0.2]\n",
      "Weight Vector: [0.63443782 0.85993795]\n"
     ]
    }
   ],
   "source": [
    "x = np.array([0.1, 0.2])\n",
    "y_target = 0.3\n",
    "lr = 0.1\n",
    "iteration = 20000\n",
    "w = np.array([np.random.rand(), np.random.rand()])\n",
    "print(\"Input Vector: {}\".format(x))\n",
    "print(\"Weight Vector: {}\".format(w))"
   ]
  },
  {
   "cell_type": "code",
   "execution_count": 120,
   "metadata": {},
   "outputs": [
    {
     "name": "stdout",
     "output_type": "stream",
     "text": [
      "0.3000000000000227\n",
      "weight: [-1.53102064 -3.47097898]\n"
     ]
    },
    {
     "data": {
      "image/png": "[encoded data removed]",
      "text/plain": [
       "<Figure size 864x504 with 1 Axes>"
      ]
     },
     "metadata": {},
     "output_type": "display_data"
    }
   ],
   "source": [
    "l = []\n",
    "\n",
    "for i in range(iteration): \n",
    "    z = np.dot(x, w)\n",
    "    y_predict = sigmoid(z)\n",
    "    l.append(loss(y_predict, y_target))\n",
    "\n",
    "    # Backward pass \n",
    "    d_loss_y = d_loss(y_predict, y_target)\n",
    "    d_sigmoid_z = d_sigmoid(y_predict)\n",
    "    d_z_x = d_z(x)\n",
    "    # Compute the product of the partial derivative \n",
    "    backward_res = d_loss_y * d_sigmoid_z * d_z_x    \n",
    "    w = gradient_descent(w, backward_res, lr)\n",
    "\n",
    "\n",
    "print(y_predict)\n",
    "print(\"weight: {}\".format(w))\n",
    "\n",
    "plt.plot([i for i in range(iteration)], l)\n",
    "plt.title(\"Gradient descent Loss\")\n",
    "plt.xlabel(\"No. of iterations\")\n",
    "plt.ylabel(\"Error\")\n",
    "plt.show()"
   ]
  }
 ],
 "metadata": {
  "kernelspec": {
   "display_name": "Python (amb-367)",
   "language": "python",
   "name": "amb-367"
  },
  "language_info": {
   "codemirror_mode": {
    "name": "ipython",
    "version": 3
   },
   "file_extension": ".py",
   "mimetype": "text/x-python",
   "name": "python",
   "nbconvert_exporter": "python",
   "pygments_lexer": "ipython3",
   "version": "3.6.7"
  }
 },
 "nbformat": 4,
 "nbformat_minor": 4
}
