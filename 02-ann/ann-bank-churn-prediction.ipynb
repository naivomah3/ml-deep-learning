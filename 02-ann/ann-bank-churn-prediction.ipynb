{
 "cells": [
  {
   "cell_type": "code",
   "execution_count": 9,
   "metadata": {},
   "outputs": [],
   "source": [
    "# Notebook settings \n",
    "import warnings\n",
    "warnings.filterwarnings(\"ignore\")\n",
    "import matplotlib\n",
    "%matplotlib inline\n",
    "matplotlib.rcParams['font.size'] = 18\n",
    "matplotlib.rcParams['figure.figsize'] = (9,9)"
   ]
  },
  {
   "cell_type": "markdown",
   "metadata": {},
   "source": [
    "### Importing libraries"
   ]
  },
  {
   "cell_type": "code",
   "execution_count": 7,
   "metadata": {},
   "outputs": [],
   "source": [
    "import numpy as np \n",
    "import pandas as pd \n",
    "import matplotlib.pyplot as plt "
   ]
  },
  {
   "cell_type": "markdown",
   "metadata": {},
   "source": [
    "## 1. Data preprocessing "
   ]
  },
  {
   "cell_type": "markdown",
   "metadata": {},
   "source": [
    "### Importing dataset"
   ]
  },
  {
   "cell_type": "code",
   "execution_count": 8,
   "metadata": {},
   "outputs": [],
   "source": [
    "data = pd.read_csv('dataset/Churn_Modelling.csv')\n",
    "X = data.iloc[:, 3:13] # Drop the three first features\n",
    "y = data.iloc[:, 13]"
   ]
  },
  {
   "cell_type": "markdown",
   "metadata": {},
   "source": [
    "### OneHotEncoding categorical features"
   ]
  },
  {
   "cell_type": "code",
   "execution_count": 9,
   "metadata": {},
   "outputs": [],
   "source": [
    "# Get the name of categorical and low cardinality features(number of unique values in a column)  \n",
    "# Why High cardinality? ==> may impact the model's performance \n",
    "cat_cols = [col_name for col_name in X.columns if X[col_name].nunique() < 10 and X[col_name].dtype == \"object\"]\n",
    "# OnHotEncode each categorical column and concat to the dataset\n",
    "for col_name in cat_cols:\n",
    "    dummy_col = pd.get_dummies(X[col_name])\n",
    "    X = pd.concat([X, dummy_col], axis=1)\n",
    "    # drop categorical column\n",
    "    X = X.drop([col_name], axis=1)"
   ]
  },
  {
   "cell_type": "markdown",
   "metadata": {},
   "source": [
    "### Spliting training(ratio=0.8) and testing set \n"
   ]
  },
  {
   "cell_type": "code",
   "execution_count": 10,
   "metadata": {},
   "outputs": [],
   "source": [
    "from sklearn.model_selection import train_test_split\n",
    "X_train, X_test, y_train, y_test = train_test_split(X, y, test_size=0.2, random_state=0)"
   ]
  },
  {
   "cell_type": "markdown",
   "metadata": {},
   "source": [
    "### Feature scaling \n"
   ]
  },
  {
   "cell_type": "code",
   "execution_count": 11,
   "metadata": {},
   "outputs": [],
   "source": [
    "from sklearn.preprocessing import StandardScaler\n",
    "std_scale = StandardScaler()\n",
    "X_train = std_scale.fit_transform(X_train)\n",
    "X_test = std_scale.fit_transform(X_test)"
   ]
  },
  {
   "cell_type": "markdown",
   "metadata": {},
   "source": [
    "## 2. Neural Network Training "
   ]
  },
  {
   "cell_type": "markdown",
   "metadata": {},
   "source": [
    "### Importing NN libraries"
   ]
  },
  {
   "cell_type": "code",
   "execution_count": 12,
   "metadata": {},
   "outputs": [],
   "source": [
    "import sklearn\n",
    "from keras.models import Sequential\n",
    "from keras.layers import Dense # for creating Hidden Layers \n",
    "from keras.layers import LeakyReLU, PReLU, ELU # for different activation functions\n",
    "from keras.layers import Dropout # for Regularization when network becomes deeper(drop some layers) "
   ]
  },
  {
   "cell_type": "markdown",
   "metadata": {},
   "source": [
    "### Setup network upon the desired I/O"
   ]
  },
  {
   "cell_type": "code",
   "execution_count": 13,
   "metadata": {},
   "outputs": [],
   "source": [
    "# Net init\n",
    "classifier = Sequential()\n",
    "# L1 \n",
    "# Params: Input=13;Output=6;Weight_initialization=he_unifrom;Activation=Relu \n",
    "classifier.add(Dense(units=10, kernel_initializer='he_normal', activation='relu', input_dim=13))\n",
    "classifier.add(Dropout(0.3))\n",
    "# L2 \n",
    "classifier.add(Dense(units=20, kernel_initializer='he_normal', activation='relu'))\n",
    "# L3\n",
    "classifier.add(Dense(units=15, kernel_initializer='he_normal', activation='relu'))\n",
    "# L4\n",
    "# Params: Output=6;Weight_initialization=glorot_unifrom(Xavier&Gorat);Activation=Sigmooid()\n",
    "classifier.add(Dense(units=1, kernel_initializer='glorot_uniform', activation='sigmoid'))\n",
    "#classifier.summary()\n",
    "# Setup optimizer: loss function(binary_crossentropy=for binary output); loss metrics\n",
    "classifier.compile(optimizer='adam', loss='binary_crossentropy', metrics=['accuracy'])\n"
   ]
  },
  {
   "cell_type": "markdown",
   "metadata": {},
   "source": [
    "### Fitting the model to training set "
   ]
  },
  {
   "cell_type": "code",
   "execution_count": 14,
   "metadata": {
    "scrolled": true
   },
   "outputs": [
    {
     "name": "stderr",
     "output_type": "stream",
     "text": [
      "/home/zero/anaconda/envs/amb-367/lib/python3.6/site-packages/ipykernel_launcher.py:2: UserWarning: The `nb_epoch` argument in `fit` has been renamed `epochs`.\n",
      "  \n"
     ]
    },
    {
     "name": "stdout",
     "output_type": "stream",
     "text": [
      "Train on 5359 samples, validate on 2641 samples\n",
      "Epoch 1/100\n",
      "5359/5359 [==============================] - 2s 441us/step - loss: 0.5760 - acc: 0.7393 - val_loss: 0.4913 - val_acc: 0.7970\n",
      "Epoch 2/100\n",
      "5359/5359 [==============================] - 1s 249us/step - loss: 0.4846 - acc: 0.7964 - val_loss: 0.4617 - val_acc: 0.8008\n",
      "Epoch 3/100\n",
      "5359/5359 [==============================] - 1s 253us/step - loss: 0.4646 - acc: 0.8035 - val_loss: 0.4431 - val_acc: 0.8095\n",
      "Epoch 4/100\n",
      "5359/5359 [==============================] - 1s 239us/step - loss: 0.4475 - acc: 0.8080 - val_loss: 0.4260 - val_acc: 0.8167\n",
      "Epoch 5/100\n",
      "5359/5359 [==============================] - 1s 236us/step - loss: 0.4306 - acc: 0.8138 - val_loss: 0.4139 - val_acc: 0.8217\n",
      "Epoch 6/100\n",
      "5359/5359 [==============================] - 1s 227us/step - loss: 0.4264 - acc: 0.8179 - val_loss: 0.4080 - val_acc: 0.8232\n",
      "Epoch 7/100\n",
      "5359/5359 [==============================] - 1s 243us/step - loss: 0.4146 - acc: 0.8274 - val_loss: 0.4017 - val_acc: 0.8292\n",
      "Epoch 8/100\n",
      "5359/5359 [==============================] - 1s 228us/step - loss: 0.4033 - acc: 0.8315 - val_loss: 0.3976 - val_acc: 0.8300\n",
      "Epoch 9/100\n",
      "5359/5359 [==============================] - 1s 248us/step - loss: 0.3985 - acc: 0.8332 - val_loss: 0.3887 - val_acc: 0.8357\n",
      "Epoch 10/100\n",
      "5359/5359 [==============================] - 1s 241us/step - loss: 0.3971 - acc: 0.8362 - val_loss: 0.3900 - val_acc: 0.8300\n",
      "Epoch 11/100\n",
      "5359/5359 [==============================] - 1s 243us/step - loss: 0.3931 - acc: 0.8373 - val_loss: 0.3822 - val_acc: 0.8357\n",
      "Epoch 12/100\n",
      "5359/5359 [==============================] - 1s 255us/step - loss: 0.3896 - acc: 0.8369 - val_loss: 0.3737 - val_acc: 0.8432\n",
      "Epoch 13/100\n",
      "5359/5359 [==============================] - 2s 303us/step - loss: 0.3810 - acc: 0.8455 - val_loss: 0.3740 - val_acc: 0.8402\n",
      "Epoch 14/100\n",
      "5359/5359 [==============================] - 1s 244us/step - loss: 0.3792 - acc: 0.8419 - val_loss: 0.3691 - val_acc: 0.8421\n",
      "Epoch 15/100\n",
      "5359/5359 [==============================] - 1s 246us/step - loss: 0.3821 - acc: 0.8406 - val_loss: 0.3673 - val_acc: 0.8451\n",
      "Epoch 16/100\n",
      "5359/5359 [==============================] - 1s 253us/step - loss: 0.3762 - acc: 0.8434 - val_loss: 0.3655 - val_acc: 0.8466\n",
      "Epoch 17/100\n",
      "5359/5359 [==============================] - 2s 283us/step - loss: 0.3805 - acc: 0.8373 - val_loss: 0.3666 - val_acc: 0.8444\n",
      "Epoch 18/100\n",
      "5359/5359 [==============================] - 1s 270us/step - loss: 0.3722 - acc: 0.8433 - val_loss: 0.3669 - val_acc: 0.8440\n",
      "Epoch 19/100\n",
      "5359/5359 [==============================] - 2s 289us/step - loss: 0.3667 - acc: 0.8479 - val_loss: 0.3644 - val_acc: 0.8455\n",
      "Epoch 20/100\n",
      "5359/5359 [==============================] - 1s 275us/step - loss: 0.3709 - acc: 0.8487 - val_loss: 0.3706 - val_acc: 0.8364\n",
      "Epoch 21/100\n",
      "5359/5359 [==============================] - 2s 288us/step - loss: 0.3761 - acc: 0.8442 - val_loss: 0.3695 - val_acc: 0.8413\n",
      "Epoch 22/100\n",
      "5359/5359 [==============================] - 2s 281us/step - loss: 0.3663 - acc: 0.8483 - val_loss: 0.3708 - val_acc: 0.8421\n",
      "Epoch 23/100\n",
      "5359/5359 [==============================] - 2s 282us/step - loss: 0.3623 - acc: 0.8498 - val_loss: 0.3606 - val_acc: 0.8466\n",
      "Epoch 24/100\n",
      "5359/5359 [==============================] - 1s 273us/step - loss: 0.3645 - acc: 0.8459 - val_loss: 0.3618 - val_acc: 0.8455\n",
      "Epoch 25/100\n",
      "5359/5359 [==============================] - 2s 317us/step - loss: 0.3651 - acc: 0.8459 - val_loss: 0.3639 - val_acc: 0.8459\n",
      "Epoch 26/100\n",
      "5359/5359 [==============================] - 3s 546us/step - loss: 0.3596 - acc: 0.8528 - val_loss: 0.3691 - val_acc: 0.8398\n",
      "Epoch 27/100\n",
      "5359/5359 [==============================] - 3s 484us/step - loss: 0.3547 - acc: 0.8513 - val_loss: 0.3682 - val_acc: 0.8421\n",
      "Epoch 28/100\n",
      "5359/5359 [==============================] - 3s 480us/step - loss: 0.3592 - acc: 0.8526 - val_loss: 0.3660 - val_acc: 0.8421\n",
      "Epoch 29/100\n",
      "5359/5359 [==============================] - 3s 477us/step - loss: 0.3615 - acc: 0.8477 - val_loss: 0.3649 - val_acc: 0.8455\n",
      "Epoch 30/100\n",
      "5359/5359 [==============================] - 2s 451us/step - loss: 0.3542 - acc: 0.8503 - val_loss: 0.3649 - val_acc: 0.8432\n",
      "Epoch 31/100\n",
      "5359/5359 [==============================] - 3s 480us/step - loss: 0.3543 - acc: 0.8530 - val_loss: 0.3613 - val_acc: 0.8459\n",
      "Epoch 32/100\n",
      "5359/5359 [==============================] - 3s 471us/step - loss: 0.3517 - acc: 0.8539 - val_loss: 0.3584 - val_acc: 0.8459\n",
      "Epoch 33/100\n",
      "5359/5359 [==============================] - 3s 484us/step - loss: 0.3525 - acc: 0.8531 - val_loss: 0.3635 - val_acc: 0.8451\n",
      "Epoch 34/100\n",
      "5359/5359 [==============================] - 3s 469us/step - loss: 0.3540 - acc: 0.8561 - val_loss: 0.3604 - val_acc: 0.8448\n",
      "Epoch 35/100\n",
      "5359/5359 [==============================] - 3s 474us/step - loss: 0.3497 - acc: 0.8567 - val_loss: 0.3626 - val_acc: 0.8493\n",
      "Epoch 36/100\n",
      "5359/5359 [==============================] - 3s 520us/step - loss: 0.3523 - acc: 0.8558 - val_loss: 0.3626 - val_acc: 0.8448\n",
      "Epoch 37/100\n",
      "5359/5359 [==============================] - 3s 475us/step - loss: 0.3484 - acc: 0.8567 - val_loss: 0.3613 - val_acc: 0.8482\n",
      "Epoch 38/100\n",
      "5359/5359 [==============================] - 3s 487us/step - loss: 0.3564 - acc: 0.8524 - val_loss: 0.3599 - val_acc: 0.8501\n",
      "Epoch 39/100\n",
      "5359/5359 [==============================] - 2s 461us/step - loss: 0.3487 - acc: 0.8565 - val_loss: 0.3588 - val_acc: 0.8478\n",
      "Epoch 40/100\n",
      "5359/5359 [==============================] - 3s 483us/step - loss: 0.3604 - acc: 0.8509 - val_loss: 0.3617 - val_acc: 0.8474\n",
      "Epoch 41/100\n",
      "5359/5359 [==============================] - 3s 473us/step - loss: 0.3548 - acc: 0.8518 - val_loss: 0.3599 - val_acc: 0.8478\n",
      "Epoch 42/100\n",
      "5359/5359 [==============================] - 3s 476us/step - loss: 0.3489 - acc: 0.8561 - val_loss: 0.3677 - val_acc: 0.8466\n",
      "Epoch 43/100\n",
      "5359/5359 [==============================] - 3s 521us/step - loss: 0.3543 - acc: 0.8582 - val_loss: 0.3606 - val_acc: 0.8493\n",
      "Epoch 44/100\n",
      "5359/5359 [==============================] - 3s 645us/step - loss: 0.3485 - acc: 0.8552 - val_loss: 0.3614 - val_acc: 0.8463\n",
      "Epoch 45/100\n",
      "5359/5359 [==============================] - 2s 402us/step - loss: 0.3505 - acc: 0.8546 - val_loss: 0.3559 - val_acc: 0.8489\n",
      "Epoch 46/100\n",
      "5359/5359 [==============================] - 2s 439us/step - loss: 0.3467 - acc: 0.8548 - val_loss: 0.3771 - val_acc: 0.8398\n",
      "Epoch 47/100\n",
      "5359/5359 [==============================] - 2s 447us/step - loss: 0.3449 - acc: 0.8582 - val_loss: 0.3661 - val_acc: 0.8459\n",
      "Epoch 48/100\n",
      "5359/5359 [==============================] - 3s 468us/step - loss: 0.3483 - acc: 0.8541 - val_loss: 0.3734 - val_acc: 0.8383\n",
      "Epoch 49/100\n",
      "5359/5359 [==============================] - 2s 411us/step - loss: 0.3513 - acc: 0.8550 - val_loss: 0.3585 - val_acc: 0.8485\n",
      "Epoch 50/100\n",
      "5359/5359 [==============================] - 2s 416us/step - loss: 0.3470 - acc: 0.8565 - val_loss: 0.3638 - val_acc: 0.8470\n",
      "Epoch 51/100\n",
      "5359/5359 [==============================] - 2s 438us/step - loss: 0.3491 - acc: 0.8550 - val_loss: 0.3581 - val_acc: 0.8520\n",
      "Epoch 52/100\n",
      "5359/5359 [==============================] - 2s 437us/step - loss: 0.3498 - acc: 0.8574 - val_loss: 0.3640 - val_acc: 0.8451\n",
      "Epoch 53/100\n",
      "5359/5359 [==============================] - 2s 430us/step - loss: 0.3502 - acc: 0.8563 - val_loss: 0.3644 - val_acc: 0.8444\n",
      "Epoch 54/100\n",
      "5359/5359 [==============================] - 3s 481us/step - loss: 0.3489 - acc: 0.8567 - val_loss: 0.3609 - val_acc: 0.8482\n",
      "Epoch 55/100\n",
      "5359/5359 [==============================] - 2s 453us/step - loss: 0.3461 - acc: 0.8593 - val_loss: 0.3696 - val_acc: 0.8410\n",
      "Epoch 56/100\n",
      "5359/5359 [==============================] - 2s 453us/step - loss: 0.3434 - acc: 0.8576 - val_loss: 0.3593 - val_acc: 0.8478\n",
      "Epoch 57/100\n",
      "5359/5359 [==============================] - 2s 449us/step - loss: 0.3467 - acc: 0.8572 - val_loss: 0.3645 - val_acc: 0.8474\n",
      "Epoch 58/100\n",
      "5359/5359 [==============================] - 2s 443us/step - loss: 0.3484 - acc: 0.8567 - val_loss: 0.3627 - val_acc: 0.8482\n",
      "Epoch 59/100\n",
      "5359/5359 [==============================] - 3s 539us/step - loss: 0.3440 - acc: 0.8572 - val_loss: 0.3560 - val_acc: 0.8546\n",
      "Epoch 60/100\n",
      "5359/5359 [==============================] - 3s 647us/step - loss: 0.3496 - acc: 0.8559 - val_loss: 0.3680 - val_acc: 0.8444\n",
      "Epoch 61/100\n",
      "5359/5359 [==============================] - 3s 649us/step - loss: 0.3444 - acc: 0.8550 - val_loss: 0.3588 - val_acc: 0.8508\n",
      "Epoch 62/100\n",
      "5359/5359 [==============================] - 3s 594us/step - loss: 0.3470 - acc: 0.8572 - val_loss: 0.3603 - val_acc: 0.8459\n",
      "Epoch 63/100\n",
      "5359/5359 [==============================] - 3s 527us/step - loss: 0.3447 - acc: 0.8599 - val_loss: 0.3640 - val_acc: 0.8474\n",
      "Epoch 64/100\n",
      "5359/5359 [==============================] - 3s 500us/step - loss: 0.3421 - acc: 0.8619 - val_loss: 0.3615 - val_acc: 0.8489\n",
      "Epoch 65/100\n",
      "5359/5359 [==============================] - 3s 537us/step - loss: 0.3471 - acc: 0.8580 - val_loss: 0.3755 - val_acc: 0.8417\n",
      "Epoch 66/100\n",
      "5359/5359 [==============================] - 2s 443us/step - loss: 0.3476 - acc: 0.8548 - val_loss: 0.3667 - val_acc: 0.8455\n",
      "Epoch 67/100\n",
      "5359/5359 [==============================] - 2s 424us/step - loss: 0.3493 - acc: 0.8567 - val_loss: 0.3682 - val_acc: 0.8470\n",
      "Epoch 68/100\n",
      "5359/5359 [==============================] - 2s 446us/step - loss: 0.3402 - acc: 0.8597 - val_loss: 0.3653 - val_acc: 0.8470\n",
      "Epoch 69/100\n",
      "5359/5359 [==============================] - 2s 450us/step - loss: 0.3448 - acc: 0.8559 - val_loss: 0.3587 - val_acc: 0.8478\n",
      "Epoch 70/100\n",
      "5359/5359 [==============================] - 2s 448us/step - loss: 0.3434 - acc: 0.8563 - val_loss: 0.3625 - val_acc: 0.8444\n",
      "Epoch 71/100\n",
      "5359/5359 [==============================] - 3s 490us/step - loss: 0.3453 - acc: 0.8576 - val_loss: 0.3699 - val_acc: 0.8432\n",
      "Epoch 72/100\n",
      "5359/5359 [==============================] - 3s 468us/step - loss: 0.3434 - acc: 0.8561 - val_loss: 0.3647 - val_acc: 0.8455\n",
      "Epoch 73/100\n",
      "5359/5359 [==============================] - 3s 502us/step - loss: 0.3449 - acc: 0.8545 - val_loss: 0.3626 - val_acc: 0.8466\n",
      "Epoch 74/100\n",
      "5359/5359 [==============================] - 3s 488us/step - loss: 0.3418 - acc: 0.8586 - val_loss: 0.3704 - val_acc: 0.8448\n",
      "Epoch 75/100\n",
      "5359/5359 [==============================] - 3s 503us/step - loss: 0.3485 - acc: 0.8558 - val_loss: 0.3663 - val_acc: 0.8451\n",
      "Epoch 76/100\n",
      "5359/5359 [==============================] - 3s 507us/step - loss: 0.3436 - acc: 0.8545 - val_loss: 0.3616 - val_acc: 0.8493\n",
      "Epoch 77/100\n",
      "5359/5359 [==============================] - 3s 593us/step - loss: 0.3420 - acc: 0.8587 - val_loss: 0.3681 - val_acc: 0.8455\n",
      "Epoch 78/100\n",
      "5359/5359 [==============================] - 3s 581us/step - loss: 0.3450 - acc: 0.8574 - val_loss: 0.3647 - val_acc: 0.8444\n",
      "Epoch 79/100\n",
      "5359/5359 [==============================] - 3s 648us/step - loss: 0.3454 - acc: 0.8595 - val_loss: 0.3607 - val_acc: 0.8535\n",
      "Epoch 80/100\n",
      "5359/5359 [==============================] - 3s 484us/step - loss: 0.3460 - acc: 0.8563 - val_loss: 0.3636 - val_acc: 0.8474\n",
      "Epoch 81/100\n",
      "5359/5359 [==============================] - 3s 550us/step - loss: 0.3479 - acc: 0.8556 - val_loss: 0.3674 - val_acc: 0.8436\n",
      "Epoch 82/100\n",
      "5359/5359 [==============================] - 3s 504us/step - loss: 0.3405 - acc: 0.8604 - val_loss: 0.3667 - val_acc: 0.8440\n",
      "Epoch 83/100\n",
      "5359/5359 [==============================] - 3s 508us/step - loss: 0.3461 - acc: 0.8563 - val_loss: 0.3780 - val_acc: 0.8406\n",
      "Epoch 84/100\n",
      "5359/5359 [==============================] - 3s 539us/step - loss: 0.3434 - acc: 0.8565 - val_loss: 0.3639 - val_acc: 0.8466\n",
      "Epoch 85/100\n",
      "5359/5359 [==============================] - 3s 534us/step - loss: 0.3466 - acc: 0.8569 - val_loss: 0.3626 - val_acc: 0.8508\n",
      "Epoch 86/100\n",
      "5359/5359 [==============================] - 3s 548us/step - loss: 0.3459 - acc: 0.8569 - val_loss: 0.3656 - val_acc: 0.8429\n",
      "Epoch 87/100\n",
      "5359/5359 [==============================] - 2s 439us/step - loss: 0.3450 - acc: 0.8574 - val_loss: 0.3638 - val_acc: 0.8455\n",
      "Epoch 88/100\n",
      "5359/5359 [==============================] - 2s 439us/step - loss: 0.3476 - acc: 0.8574 - val_loss: 0.3768 - val_acc: 0.8391\n",
      "Epoch 89/100\n",
      "5359/5359 [==============================] - 2s 442us/step - loss: 0.3457 - acc: 0.8582 - val_loss: 0.3606 - val_acc: 0.8516\n",
      "Epoch 90/100\n",
      "5359/5359 [==============================] - 2s 458us/step - loss: 0.3432 - acc: 0.8567 - val_loss: 0.3626 - val_acc: 0.8497\n",
      "Epoch 91/100\n",
      "5359/5359 [==============================] - 3s 506us/step - loss: 0.3430 - acc: 0.8586 - val_loss: 0.3683 - val_acc: 0.8448\n",
      "Epoch 92/100\n",
      "5359/5359 [==============================] - 3s 570us/step - loss: 0.3427 - acc: 0.8587 - val_loss: 0.3677 - val_acc: 0.8448\n",
      "Epoch 93/100\n",
      "5359/5359 [==============================] - 3s 494us/step - loss: 0.3488 - acc: 0.8602 - val_loss: 0.3630 - val_acc: 0.8459\n",
      "Epoch 94/100\n",
      "5359/5359 [==============================] - 3s 515us/step - loss: 0.3465 - acc: 0.8563 - val_loss: 0.3714 - val_acc: 0.8413\n",
      "Epoch 95/100\n",
      "5359/5359 [==============================] - 3s 589us/step - loss: 0.3411 - acc: 0.8582 - val_loss: 0.3660 - val_acc: 0.8432\n",
      "Epoch 96/100\n",
      "5359/5359 [==============================] - 3s 534us/step - loss: 0.3401 - acc: 0.8600 - val_loss: 0.3613 - val_acc: 0.8493\n",
      "Epoch 97/100\n",
      "5359/5359 [==============================] - 3s 588us/step - loss: 0.3384 - acc: 0.8606 - val_loss: 0.3657 - val_acc: 0.8436\n",
      "Epoch 98/100\n",
      "5359/5359 [==============================] - 2s 459us/step - loss: 0.3447 - acc: 0.8584 - val_loss: 0.3656 - val_acc: 0.8508\n",
      "Epoch 99/100\n",
      "5359/5359 [==============================] - 2s 442us/step - loss: 0.3401 - acc: 0.8612 - val_loss: 0.3649 - val_acc: 0.8485\n",
      "Epoch 100/100\n",
      "5359/5359 [==============================] - 4s 739us/step - loss: 0.3451 - acc: 0.8589 - val_loss: 0.3732 - val_acc: 0.8429\n"
     ]
    }
   ],
   "source": [
    "# Fit the model  \n",
    "model = classifier.fit(X_train, y_train, validation_split=0.33, batch_size=10, nb_epoch=100)"
   ]
  },
  {
   "cell_type": "markdown",
   "metadata": {},
   "source": [
    "### Ploting model's accuracy for training and validation(ratio=0.33) \n",
    "\n"
   ]
  },
  {
   "cell_type": "code",
   "execution_count": 18,
   "metadata": {},
   "outputs": [
    {
     "data": {
      "image/png": "[encoded data removed]",
      "text/plain": [
       "<Figure size 648x648 with 1 Axes>"
      ]
     },
     "metadata": {
      "needs_background": "light"
     },
     "output_type": "display_data"
    }
   ],
   "source": [
    "# Print history of the model \n",
    "#print(model.history.keys())\n",
    "# Plot history of the model \n",
    "plt.plot(model.history['acc'])\n",
    "plt.plot(model.history['val_acc'])\n",
    "plt.title('Model Accuracy')\n",
    "plt.ylabel('accuracy')\n",
    "plt.xlabel('no. of epoch')\n",
    "plt.legend(['Train', 'Validation'], loc='upper left')\n",
    "plt.show()"
   ]
  },
  {
   "cell_type": "markdown",
   "metadata": {},
   "source": [
    "### Get truely classified set"
   ]
  },
  {
   "cell_type": "code",
   "execution_count": 19,
   "metadata": {},
   "outputs": [],
   "source": [
    "y_predict = classifier.predict(X_test)\n",
    "y_predict = (y_predict > 0.5)"
   ]
  },
  {
   "cell_type": "markdown",
   "metadata": {},
   "source": [
    "### Confusion Matrix "
   ]
  },
  {
   "cell_type": "code",
   "execution_count": 1,
   "metadata": {},
   "outputs": [
    {
     "ename": "NameError",
     "evalue": "name 'y_test' is not defined",
     "output_type": "error",
     "traceback": [
      "\u001b[0;31m---------------------------------------------------------------------------\u001b[0m",
      "\u001b[0;31mNameError\u001b[0m                                 Traceback (most recent call last)",
      "\u001b[0;32m<ipython-input-1-ff4a9450bfa9>\u001b[0m in \u001b[0;36m<module>\u001b[0;34m\u001b[0m\n\u001b[1;32m      1\u001b[0m \u001b[0;31m# Making the Confusion Matrix\u001b[0m\u001b[0;34m\u001b[0m\u001b[0;34m\u001b[0m\u001b[0;34m\u001b[0m\u001b[0m\n\u001b[1;32m      2\u001b[0m \u001b[0;32mfrom\u001b[0m \u001b[0msklearn\u001b[0m\u001b[0;34m.\u001b[0m\u001b[0mmetrics\u001b[0m \u001b[0;32mimport\u001b[0m \u001b[0mconfusion_matrix\u001b[0m\u001b[0;34m\u001b[0m\u001b[0;34m\u001b[0m\u001b[0m\n\u001b[0;32m----> 3\u001b[0;31m \u001b[0mcm\u001b[0m \u001b[0;34m=\u001b[0m \u001b[0mconfusion_matrix\u001b[0m\u001b[0;34m(\u001b[0m\u001b[0my_test\u001b[0m\u001b[0;34m,\u001b[0m \u001b[0my_predict\u001b[0m\u001b[0;34m)\u001b[0m\u001b[0;34m\u001b[0m\u001b[0;34m\u001b[0m\u001b[0m\n\u001b[0m\u001b[1;32m      4\u001b[0m \u001b[0mprint\u001b[0m\u001b[0;34m(\u001b[0m\u001b[0mcm\u001b[0m\u001b[0;34m)\u001b[0m\u001b[0;34m\u001b[0m\u001b[0;34m\u001b[0m\u001b[0m\n",
      "\u001b[0;31mNameError\u001b[0m: name 'y_test' is not defined"
     ]
    }
   ],
   "source": [
    "# Making the Confusion Matrix\n",
    "from sklearn.metrics import confusion_matrix\n",
    "cm = confusion_matrix(y_test, y_predict)\n",
    "print(cm)"
   ]
  }
 ],
 "metadata": {
  "kernelspec": {
   "display_name": "Python (amb-367)",
   "language": "python",
   "name": "amb-367"
  },
  "language_info": {
   "codemirror_mode": {
    "name": "ipython",
    "version": 3
   },
   "file_extension": ".py",
   "mimetype": "text/x-python",
   "name": "python",
   "nbconvert_exporter": "python",
   "pygments_lexer": "ipython3",
   "version": "3.6.7"
  }
 },
 "nbformat": 4,
 "nbformat_minor": 4
}
