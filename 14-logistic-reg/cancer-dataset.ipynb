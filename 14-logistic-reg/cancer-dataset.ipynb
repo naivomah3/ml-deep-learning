{
 "cells": [
  {
   "cell_type": "markdown",
   "metadata": {},
   "source": [
    "# Logistic Regression from scratch on Cancer dataset"
   ]
  },
  {
   "cell_type": "markdown",
   "metadata": {},
   "source": [
    "## Import libs"
   ]
  },
  {
   "cell_type": "code",
   "execution_count": 21,
   "metadata": {},
   "outputs": [],
   "source": [
    "import numpy as np \n",
    "from sklearn import datasets\n",
    "import matplotlib.pyplot as plt \n",
    "\n",
    "plt.style.use('fivethirtyeight')\n",
    "plt.rcParams['figure.facecolor'] = 'w'\n",
    "plt.rcParams['figure.figsize'] = [8, 6]\n",
    "plt.rcParams['font.size'] = 14\n",
    "plt.rcParams['font.family'] = \"Fantasque Sans Mono\""
   ]
  },
  {
   "cell_type": "markdown",
   "metadata": {},
   "source": [
    "## Normalization "
   ]
  },
  {
   "cell_type": "code",
   "execution_count": 8,
   "metadata": {},
   "outputs": [],
   "source": [
    "# Function to normalize datapoint, X (Scaled to a range [0-1]) \n",
    "# using MIN-MAX Normalization\n",
    "# Xnorm = 1 - [(Xmax−X) / (Xmax − Xmin)] \n",
    "# Equivalent to\n",
    "# Xnorm = (X−Xmin) / (Xmax−Xmin)\n",
    "def MinMaxNormalizer(X): \n",
    "    x_min = np.min(X, axis = 0)\n",
    "    x_max = np.max(X, axis = 0)\n",
    "    X_norm = 1 - ( (x_max - X) / (x_max - x_min) )\n",
    "    return X_norm"
   ]
  },
  {
   "cell_type": "markdown",
   "metadata": {},
   "source": [
    "## Logistic function(Sigmoid)"
   ]
  },
  {
   "cell_type": "code",
   "execution_count": 9,
   "metadata": {},
   "outputs": [],
   "source": [
    "# Logistic function (Sigmoid function)\n",
    "# Input : \n",
    "#   - Theta (Vector)\n",
    "#   - Features (Vector)\n",
    "def Sigmoid(theta, X): \n",
    "    return 1.0 / (1 + np.exp(-np.dot(X, theta.T))) "
   ]
  },
  {
   "cell_type": "markdown",
   "metadata": {},
   "source": [
    "## Loss function"
   ]
  },
  {
   "cell_type": "code",
   "execution_count": 14,
   "metadata": {},
   "outputs": [],
   "source": [
    "# Computing cost using Sigmoid Cross-Entropy  bw Y and Y_predict\n",
    "def cost_func(theta, X, Y): \n",
    "    # Logistic function\n",
    "    Y_pred = Sigmoid(theta, X)\n",
    "    Y = np.squeeze(Y)\n",
    "    # Cross-Entropy Loss function \n",
    "    equation_1 = Y * np.log(Y_pred) \n",
    "    equation_2 = (1 - Y) * np.log(1 - Y_pred) \n",
    "    final_equation = - equation_1 - equation_2 \n",
    "    return np.mean(final_equation) "
   ]
  },
  {
   "cell_type": "markdown",
   "metadata": {},
   "source": [
    "## FullBatch GD optimizer"
   ]
  },
  {
   "cell_type": "code",
   "execution_count": 15,
   "metadata": {},
   "outputs": [],
   "source": [
    "# Batch Gradient Descent for weights updation(Theta)\n",
    "def BatchGradientDescent(X, Y, theta, learning_rate=0.005, cost_threshold=0.001):\n",
    "    cost = []\n",
    "    iterations = []\n",
    "    iterations.append(0)\n",
    "    cost.append(cost_func(theta, X, Y)) \n",
    "    change_cost = 1\n",
    "    num_iter = 0\n",
    "    \n",
    "    # FullBatch Gradien descent based on thresholding \n",
    "    while change_cost > cost_threshold: \n",
    "        equation_1 = Sigmoid(theta, X) - Y.reshape(X.shape[0], -1) \n",
    "        equation_2 = np.dot(equation_1.T, X) \n",
    "        # Compute Theta Vector\n",
    "        theta = theta - (learning_rate * equation_2) \n",
    "        # Recompute Cost J\n",
    "        cost.append(cost_func(theta, X, Y)) # cost per batch\n",
    "        # Compute Change in cost \n",
    "        change_cost = cost[num_iter] - cost[num_iter+1]\n",
    "        iterations.append(num_iter) \n",
    "        num_iter += 1\n",
    "      \n",
    "    return theta, np.array(iterations), np.array(cost)  "
   ]
  },
  {
   "cell_type": "markdown",
   "metadata": {},
   "source": [
    "## Predict function "
   ]
  },
  {
   "cell_type": "code",
   "execution_count": 16,
   "metadata": {},
   "outputs": [],
   "source": [
    "# Predict the dataset and return y_predict\n",
    "# Predict as 1 if x > .5\n",
    "#              else 0\n",
    "def predict(theta, X): \n",
    "    y_prob = Sigmoid(theta, X) \n",
    "    y_predict = np.where(y_prob >= .5, 1, 0) \n",
    "    return np.squeeze(y_predict) "
   ]
  },
  {
   "cell_type": "markdown",
   "metadata": {},
   "source": [
    "## Training and Prediction "
   ]
  },
  {
   "cell_type": "code",
   "execution_count": 18,
   "metadata": {},
   "outputs": [
    {
     "name": "stdout",
     "output_type": "stream",
     "text": [
      "NO. OF TRUE PREDICTION : 562\n",
      "NO. OF MISPREDICTION : 7\n",
      "TOTAL NO. OF SAMPLE : 569\n",
      "ACCURACY : 98.77 %\n"
     ]
    }
   ],
   "source": [
    "# Dataset available in sklearn\n",
    "cancer_dataset = datasets.load_breast_cancer()\n",
    "X = np.array(cancer_dataset.data)\n",
    "Y = np.array(cancer_dataset.target) \n",
    "\n",
    "# Min-Max Normalization of Matrix Feature X\n",
    "X = MinMaxNormalizer(X)\n",
    "\n",
    "# Horizontal Merge X_0 with whole X\n",
    "X = np.hstack((np.matrix(np.ones(X.shape[0])).T, X))\n",
    "\n",
    "# Initialize the value of Theta(Vector) to 0s\n",
    "theta = np.matrix(np.zeros(X.shape[1])) \n",
    "\n",
    "# theta values after fitting the dataset \n",
    "theta, iteration, cost = BatchGradientDescent(X, Y, theta) \n",
    "\n",
    "# Predict the dataset with the new value of 'theta'\n",
    "# Finding the accuracy \n",
    "y_predict = predict(theta, X)\n",
    "\n",
    "# Compute TP TN FP FN\n",
    "true_positif = [1 for y,y_p in zip(Y, y_predict) if y==y_p and y==1]\n",
    "true_negatif = [1 for y,y_p in zip(Y, y_predict) if y==y_p and y==0]\n",
    "false_positif = [1 for y,y_p in zip(Y, y_predict) if y==0 and y_p==1]\n",
    "false_negatif = [1 for y,y_p in zip(Y, y_predict) if y==1 and y_p==0]\n",
    "\n",
    "# True predicted \n",
    "true_predict = sum(true_positif) + sum(true_negatif)\n",
    "print('NO. OF TRUE PREDICTION : {}'.format(true_predict))\n",
    "print('NO. OF MISPREDICTION : {}'.format(len(false_negatif) + len(false_positif)))\n",
    "print('TOTAL NO. OF SAMPLE : {}'.format(len(Y)))\n",
    "print('ACCURACY : {:.2f} %'.format(true_predict/len(Y) * 100))"
   ]
  },
  {
   "cell_type": "markdown",
   "metadata": {},
   "source": [
    "## Ploting Loss"
   ]
  },
  {
   "cell_type": "code",
   "execution_count": 23,
   "metadata": {},
   "outputs": [
    {
     "data": {
      "image/png": "[encoded data removed]",
      "text/plain": [
       "<Figure size 576x432 with 1 Axes>"
      ]
     },
     "metadata": {},
     "output_type": "display_data"
    }
   ],
   "source": [
    "plt.figure(1)\n",
    "plt.plot(iteration, cost)\n",
    "plt.title(\"Iteration vs Loss\")\n",
    "plt.xlabel(\"Number of Iteration\")\n",
    "plt.ylabel(\"Loss\")\n",
    "plt.show()"
   ]
  }
 ],
 "metadata": {
  "kernelspec": {
   "display_name": "Python (amb-367)",
   "language": "python",
   "name": "amb-367"
  },
  "language_info": {
   "codemirror_mode": {
    "name": "ipython",
    "version": 3
   },
   "file_extension": ".py",
   "mimetype": "text/x-python",
   "name": "python",
   "nbconvert_exporter": "python",
   "pygments_lexer": "ipython3",
   "version": "3.6.7"
  }
 },
 "nbformat": 4,
 "nbformat_minor": 4
}
